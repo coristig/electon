{
 "cells": [
  {
   "cell_type": "code",
   "execution_count": 54,
   "metadata": {
    "collapsed": true
   },
   "outputs": [],
   "source": [
    "import pandas as pd\n",
    "import numpy as np\n",
    "from sklearn import preprocessing"
   ]
  },
  {
   "cell_type": "code",
   "execution_count": 79,
   "metadata": {
    "collapsed": false
   },
   "outputs": [
    {
     "name": "stderr",
     "output_type": "stream",
     "text": [
      "/Users/coristig/anaconda/lib/python3.4/site-packages/IPython/kernel/__main__.py:6: SettingWithCopyWarning: \n",
      "A value is trying to be set on a copy of a slice from a DataFrame.\n",
      "Try using .loc[row_indexer,col_indexer] = value instead\n",
      "\n",
      "See the the caveats in the documentation: http://pandas.pydata.org/pandas-docs/stable/indexing.html#indexing-view-versus-copy\n"
     ]
    }
   ],
   "source": [
    "df = pd.read_csv('election_perception_data.csv')\n",
    "df.astype('str')\n",
    "\n",
    "#drop Third party candidate\n",
    "df2 = df[df['Answer']!= 'Third party candidate']\n",
    "df2['Gender'] = df2['Gender'].astype('category')"
   ]
  },
  {
   "cell_type": "code",
   "execution_count": 80,
   "metadata": {
    "collapsed": false
   },
   "outputs": [],
   "source": [
    "def Obama(x):\n",
    "    if x == 'Barack Obama / Joe Biden, the Democrats':\n",
    "        return 1\n",
    "    else: return 0"
   ]
  },
  {
   "cell_type": "code",
   "execution_count": 81,
   "metadata": {
    "collapsed": false
   },
   "outputs": [
    {
     "name": "stderr",
     "output_type": "stream",
     "text": [
      "/Users/coristig/anaconda/lib/python3.4/site-packages/IPython/kernel/__main__.py:1: SettingWithCopyWarning: \n",
      "A value is trying to be set on a copy of a slice from a DataFrame.\n",
      "Try using .loc[row_indexer,col_indexer] = value instead\n",
      "\n",
      "See the the caveats in the documentation: http://pandas.pydata.org/pandas-docs/stable/indexing.html#indexing-view-versus-copy\n",
      "  if __name__ == '__main__':\n"
     ]
    }
   ],
   "source": [
    "df2['obama'] = df2['Answer'].map(Obama)"
   ]
  },
  {
   "cell_type": "code",
   "execution_count": 82,
   "metadata": {
    "collapsed": false
   },
   "outputs": [
    {
     "data": {
      "text/html": [
       "<div style=\"max-height:1000px;max-width:1500px;overflow:auto;\">\n",
       "<table border=\"1\" class=\"dataframe\">\n",
       "  <thead>\n",
       "    <tr style=\"text-align: right;\">\n",
       "      <th></th>\n",
       "      <th>Time (UTC)</th>\n",
       "      <th>Gender</th>\n",
       "      <th>Age</th>\n",
       "      <th>Geography</th>\n",
       "      <th>Urban Density</th>\n",
       "      <th>Income</th>\n",
       "      <th>Weight</th>\n",
       "      <th>Screener Answer</th>\n",
       "      <th>Answer</th>\n",
       "      <th>obama</th>\n",
       "    </tr>\n",
       "  </thead>\n",
       "  <tbody>\n",
       "    <tr>\n",
       "      <th>0</th>\n",
       "      <td> 2012-11-06 10:02:28</td>\n",
       "      <td>  Female</td>\n",
       "      <td>   55-64</td>\n",
       "      <td>      US-SOUTH-GA-Druid-Hills</td>\n",
       "      <td> Suburban</td>\n",
       "      <td> $25,000-$49,999</td>\n",
       "      <td> 0.450771</td>\n",
       "      <td>  Barack Obama / Joe Biden, the Democrats</td>\n",
       "      <td>  Barack Obama / Joe Biden, the Democrats</td>\n",
       "      <td> 1</td>\n",
       "    </tr>\n",
       "    <tr>\n",
       "      <th>2</th>\n",
       "      <td> 2012-11-06 10:02:33</td>\n",
       "      <td>    Male</td>\n",
       "      <td>   35-44</td>\n",
       "      <td>              US-WEST-NV-Reno</td>\n",
       "      <td> Suburban</td>\n",
       "      <td>      $0-$24,999</td>\n",
       "      <td> 1.513335</td>\n",
       "      <td>  Barack Obama / Joe Biden, the Democrats</td>\n",
       "      <td>  Barack Obama / Joe Biden, the Democrats</td>\n",
       "      <td> 1</td>\n",
       "    </tr>\n",
       "    <tr>\n",
       "      <th>3</th>\n",
       "      <td> 2012-11-06 10:02:47</td>\n",
       "      <td> Unknown</td>\n",
       "      <td> Unknown</td>\n",
       "      <td>        US-SOUTH-NC-Charlotte</td>\n",
       "      <td> Suburban</td>\n",
       "      <td> $25,000-$49,999</td>\n",
       "      <td>      NaN</td>\n",
       "      <td>  Barack Obama / Joe Biden, the Democrats</td>\n",
       "      <td>  Barack Obama / Joe Biden, the Democrats</td>\n",
       "      <td> 1</td>\n",
       "    </tr>\n",
       "    <tr>\n",
       "      <th>4</th>\n",
       "      <td> 2012-11-06 10:02:59</td>\n",
       "      <td>  Female</td>\n",
       "      <td>   25-34</td>\n",
       "      <td>     US-MIDWEST-OH-Youngstown</td>\n",
       "      <td>    Urban</td>\n",
       "      <td>      $0-$24,999</td>\n",
       "      <td> 0.936230</td>\n",
       "      <td>  Barack Obama / Joe Biden, the Democrats</td>\n",
       "      <td>  Barack Obama / Joe Biden, the Democrats</td>\n",
       "      <td> 1</td>\n",
       "    </tr>\n",
       "    <tr>\n",
       "      <th>5</th>\n",
       "      <td> 2012-11-06 10:03:11</td>\n",
       "      <td>  Female</td>\n",
       "      <td>   55-64</td>\n",
       "      <td> US-NORTHEAST-PA-Chambersburg</td>\n",
       "      <td> Suburban</td>\n",
       "      <td> $25,000-$49,999</td>\n",
       "      <td> 0.815052</td>\n",
       "      <td> Mitt Romney / Paul Ryan, the Republicans</td>\n",
       "      <td> Mitt Romney / Paul Ryan, the Republicans</td>\n",
       "      <td> 0</td>\n",
       "    </tr>\n",
       "  </tbody>\n",
       "</table>\n",
       "</div>"
      ],
      "text/plain": [
       "            Time (UTC)   Gender      Age                     Geography  \\\n",
       "0  2012-11-06 10:02:28   Female    55-64       US-SOUTH-GA-Druid-Hills   \n",
       "2  2012-11-06 10:02:33     Male    35-44               US-WEST-NV-Reno   \n",
       "3  2012-11-06 10:02:47  Unknown  Unknown         US-SOUTH-NC-Charlotte   \n",
       "4  2012-11-06 10:02:59   Female    25-34      US-MIDWEST-OH-Youngstown   \n",
       "5  2012-11-06 10:03:11   Female    55-64  US-NORTHEAST-PA-Chambersburg   \n",
       "\n",
       "  Urban Density           Income    Weight  \\\n",
       "0      Suburban  $25,000-$49,999  0.450771   \n",
       "2      Suburban       $0-$24,999  1.513335   \n",
       "3      Suburban  $25,000-$49,999       NaN   \n",
       "4         Urban       $0-$24,999  0.936230   \n",
       "5      Suburban  $25,000-$49,999  0.815052   \n",
       "\n",
       "                            Screener Answer  \\\n",
       "0   Barack Obama / Joe Biden, the Democrats   \n",
       "2   Barack Obama / Joe Biden, the Democrats   \n",
       "3   Barack Obama / Joe Biden, the Democrats   \n",
       "4   Barack Obama / Joe Biden, the Democrats   \n",
       "5  Mitt Romney / Paul Ryan, the Republicans   \n",
       "\n",
       "                                     Answer  obama  \n",
       "0   Barack Obama / Joe Biden, the Democrats      1  \n",
       "2   Barack Obama / Joe Biden, the Democrats      1  \n",
       "3   Barack Obama / Joe Biden, the Democrats      1  \n",
       "4   Barack Obama / Joe Biden, the Democrats      1  \n",
       "5  Mitt Romney / Paul Ryan, the Republicans      0  "
      ]
     },
     "execution_count": 82,
     "metadata": {},
     "output_type": "execute_result"
    }
   ],
   "source": [
    "df2.head()"
   ]
  },
  {
   "cell_type": "code",
   "execution_count": 83,
   "metadata": {
    "collapsed": false
   },
   "outputs": [
    {
     "data": {
      "text/plain": [
       "OneHotEncoder(categorical_features='all', dtype=<class 'float'>,\n",
       "       n_values=0     $25,000-$49,999\n",
       "2          $0-$24,999\n",
       "3     $25,000-$49,999\n",
       "4          $0-$24,999\n",
       "5     $25,000-$49,999\n",
       "7     $25,000-$49,999\n",
       "8     $25,000-$49,999\n",
       "9     $25,000-$49,999\n",
       "10    $25,000-$49,999\n",
       "11    $25,000-$49,999\n",
       "13    $25,000-$49,999\n",
       "14    $25,000-$49,999\n",
       "15    $25,000-$49,999\n",
       "16   ...$0-$24,999\n",
       "9481         $0-$24,999\n",
       "9482    $25,000-$49,999\n",
       "Name: Income, Length: 8576, dtype: object,\n",
       "       sparse=True)"
      ]
     },
     "execution_count": 83,
     "metadata": {},
     "output_type": "execute_result"
    }
   ],
   "source": [
    "x = sklearn.preprocessing.OneHotEncoder(df2['Income'])\n",
    "x"
   ]
  },
  {
   "cell_type": "code",
   "execution_count": 89,
   "metadata": {
    "collapsed": false
   },
   "outputs": [
    {
     "data": {
      "text/plain": [
       "pandas.core.series.Series"
      ]
     },
     "execution_count": 89,
     "metadata": {},
     "output_type": "execute_result"
    }
   ],
   "source": [
    "type(df2['Gender'])"
   ]
  },
  {
   "cell_type": "code",
   "execution_count": 85,
   "metadata": {
    "collapsed": false
   },
   "outputs": [
    {
     "ename": "AttributeError",
     "evalue": "'Series' object has no attribute 'categories'",
     "output_type": "error",
     "traceback": [
      "\u001b[0;31m---------------------------------------------------------------------------\u001b[0m",
      "\u001b[0;31mAttributeError\u001b[0m                            Traceback (most recent call last)",
      "\u001b[0;32m<ipython-input-85-46efde6259da>\u001b[0m in \u001b[0;36m<module>\u001b[0;34m()\u001b[0m\n\u001b[0;32m----> 1\u001b[0;31m \u001b[0mdf\u001b[0m\u001b[0;34m[\u001b[0m\u001b[0;34m'Income'\u001b[0m\u001b[0;34m]\u001b[0m\u001b[0;34m.\u001b[0m\u001b[0mcategories\u001b[0m\u001b[0;34m\u001b[0m\u001b[0m\n\u001b[0m",
      "\u001b[0;32m/Users/coristig/anaconda/lib/python3.4/site-packages/pandas/core/generic.py\u001b[0m in \u001b[0;36m__getattr__\u001b[0;34m(self, name)\u001b[0m\n\u001b[1;32m   1945\u001b[0m                 \u001b[0;32mreturn\u001b[0m \u001b[0mself\u001b[0m\u001b[0;34m[\u001b[0m\u001b[0mname\u001b[0m\u001b[0;34m]\u001b[0m\u001b[0;34m\u001b[0m\u001b[0m\n\u001b[1;32m   1946\u001b[0m             raise AttributeError(\"'%s' object has no attribute '%s'\" %\n\u001b[0;32m-> 1947\u001b[0;31m                                  (type(self).__name__, name))\n\u001b[0m\u001b[1;32m   1948\u001b[0m \u001b[0;34m\u001b[0m\u001b[0m\n\u001b[1;32m   1949\u001b[0m     \u001b[0;32mdef\u001b[0m \u001b[0m__setattr__\u001b[0m\u001b[0;34m(\u001b[0m\u001b[0mself\u001b[0m\u001b[0;34m,\u001b[0m \u001b[0mname\u001b[0m\u001b[0;34m,\u001b[0m \u001b[0mvalue\u001b[0m\u001b[0;34m)\u001b[0m\u001b[0;34m:\u001b[0m\u001b[0;34m\u001b[0m\u001b[0m\n",
      "\u001b[0;31mAttributeError\u001b[0m: 'Series' object has no attribute 'categories'"
     ]
    }
   ],
   "source": [
    "df['Income'].categories"
   ]
  },
  {
   "cell_type": "code",
   "execution_count": null,
   "metadata": {
    "collapsed": true
   },
   "outputs": [],
   "source": []
  },
  {
   "cell_type": "code",
   "execution_count": null,
   "metadata": {
    "collapsed": true
   },
   "outputs": [],
   "source": []
  }
 ],
 "metadata": {
  "kernelspec": {
   "display_name": "Python 3",
   "language": "python",
   "name": "python3"
  },
  "language_info": {
   "codemirror_mode": {
    "name": "ipython",
    "version": 3
   },
   "file_extension": ".py",
   "mimetype": "text/x-python",
   "name": "python",
   "nbconvert_exporter": "python",
   "pygments_lexer": "ipython3",
   "version": "3.4.3"
  }
 },
 "nbformat": 4,
 "nbformat_minor": 0
}
